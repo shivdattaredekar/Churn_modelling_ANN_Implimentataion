{
 "cells": [
  {
   "cell_type": "code",
   "execution_count": 4,
   "id": "ec7d4aeb",
   "metadata": {},
   "outputs": [
    {
     "name": "stdout",
     "output_type": "stream",
     "text": [
      "WARNING:tensorflow:From C:\\Users\\sredekar\\AppData\\Roaming\\Python\\Python311\\site-packages\\keras\\src\\losses.py:2976: The name tf.losses.sparse_softmax_cross_entropy is deprecated. Please use tf.compat.v1.losses.sparse_softmax_cross_entropy instead.\n",
      "\n",
      "2.15.0\n"
     ]
    }
   ],
   "source": [
    "import tensorflow as tf\n",
    "print(tf.__version__)"
   ]
  },
  {
   "cell_type": "code",
   "execution_count": 5,
   "id": "2e40e798",
   "metadata": {},
   "outputs": [],
   "source": [
    "# Importing the libraries\n",
    "import numpy as np\n",
    "import matplotlib.pyplot as plt\n",
    "import pandas as pd"
   ]
  },
  {
   "cell_type": "code",
   "execution_count": 6,
   "id": "0da0d602",
   "metadata": {},
   "outputs": [
    {
     "data": {
      "text/html": [
       "<div>\n",
       "<style scoped>\n",
       "    .dataframe tbody tr th:only-of-type {\n",
       "        vertical-align: middle;\n",
       "    }\n",
       "\n",
       "    .dataframe tbody tr th {\n",
       "        vertical-align: top;\n",
       "    }\n",
       "\n",
       "    .dataframe thead th {\n",
       "        text-align: right;\n",
       "    }\n",
       "</style>\n",
       "<table border=\"1\" class=\"dataframe\">\n",
       "  <thead>\n",
       "    <tr style=\"text-align: right;\">\n",
       "      <th></th>\n",
       "      <th>RowNumber</th>\n",
       "      <th>CustomerId</th>\n",
       "      <th>Surname</th>\n",
       "      <th>CreditScore</th>\n",
       "      <th>Geography</th>\n",
       "      <th>Gender</th>\n",
       "      <th>Age</th>\n",
       "      <th>Tenure</th>\n",
       "      <th>Balance</th>\n",
       "      <th>NumOfProducts</th>\n",
       "      <th>HasCrCard</th>\n",
       "      <th>IsActiveMember</th>\n",
       "      <th>EstimatedSalary</th>\n",
       "      <th>Exited</th>\n",
       "    </tr>\n",
       "  </thead>\n",
       "  <tbody>\n",
       "    <tr>\n",
       "      <th>0</th>\n",
       "      <td>1</td>\n",
       "      <td>15634602</td>\n",
       "      <td>Hargrave</td>\n",
       "      <td>619</td>\n",
       "      <td>France</td>\n",
       "      <td>Female</td>\n",
       "      <td>42</td>\n",
       "      <td>2</td>\n",
       "      <td>0.00</td>\n",
       "      <td>1</td>\n",
       "      <td>1</td>\n",
       "      <td>1</td>\n",
       "      <td>101348.88</td>\n",
       "      <td>1</td>\n",
       "    </tr>\n",
       "    <tr>\n",
       "      <th>1</th>\n",
       "      <td>2</td>\n",
       "      <td>15647311</td>\n",
       "      <td>Hill</td>\n",
       "      <td>608</td>\n",
       "      <td>Spain</td>\n",
       "      <td>Female</td>\n",
       "      <td>41</td>\n",
       "      <td>1</td>\n",
       "      <td>83807.86</td>\n",
       "      <td>1</td>\n",
       "      <td>0</td>\n",
       "      <td>1</td>\n",
       "      <td>112542.58</td>\n",
       "      <td>0</td>\n",
       "    </tr>\n",
       "    <tr>\n",
       "      <th>2</th>\n",
       "      <td>3</td>\n",
       "      <td>15619304</td>\n",
       "      <td>Onio</td>\n",
       "      <td>502</td>\n",
       "      <td>France</td>\n",
       "      <td>Female</td>\n",
       "      <td>42</td>\n",
       "      <td>8</td>\n",
       "      <td>159660.80</td>\n",
       "      <td>3</td>\n",
       "      <td>1</td>\n",
       "      <td>0</td>\n",
       "      <td>113931.57</td>\n",
       "      <td>1</td>\n",
       "    </tr>\n",
       "    <tr>\n",
       "      <th>3</th>\n",
       "      <td>4</td>\n",
       "      <td>15701354</td>\n",
       "      <td>Boni</td>\n",
       "      <td>699</td>\n",
       "      <td>France</td>\n",
       "      <td>Female</td>\n",
       "      <td>39</td>\n",
       "      <td>1</td>\n",
       "      <td>0.00</td>\n",
       "      <td>2</td>\n",
       "      <td>0</td>\n",
       "      <td>0</td>\n",
       "      <td>93826.63</td>\n",
       "      <td>0</td>\n",
       "    </tr>\n",
       "    <tr>\n",
       "      <th>4</th>\n",
       "      <td>5</td>\n",
       "      <td>15737888</td>\n",
       "      <td>Mitchell</td>\n",
       "      <td>850</td>\n",
       "      <td>Spain</td>\n",
       "      <td>Female</td>\n",
       "      <td>43</td>\n",
       "      <td>2</td>\n",
       "      <td>125510.82</td>\n",
       "      <td>1</td>\n",
       "      <td>1</td>\n",
       "      <td>1</td>\n",
       "      <td>79084.10</td>\n",
       "      <td>0</td>\n",
       "    </tr>\n",
       "  </tbody>\n",
       "</table>\n",
       "</div>"
      ],
      "text/plain": [
       "   RowNumber  CustomerId   Surname  CreditScore Geography  Gender  Age  \\\n",
       "0          1    15634602  Hargrave          619    France  Female   42   \n",
       "1          2    15647311      Hill          608     Spain  Female   41   \n",
       "2          3    15619304      Onio          502    France  Female   42   \n",
       "3          4    15701354      Boni          699    France  Female   39   \n",
       "4          5    15737888  Mitchell          850     Spain  Female   43   \n",
       "\n",
       "   Tenure    Balance  NumOfProducts  HasCrCard  IsActiveMember  \\\n",
       "0       2       0.00              1          1               1   \n",
       "1       1   83807.86              1          0               1   \n",
       "2       8  159660.80              3          1               0   \n",
       "3       1       0.00              2          0               0   \n",
       "4       2  125510.82              1          1               1   \n",
       "\n",
       "   EstimatedSalary  Exited  \n",
       "0        101348.88       1  \n",
       "1        112542.58       0  \n",
       "2        113931.57       1  \n",
       "3         93826.63       0  \n",
       "4         79084.10       0  "
      ]
     },
     "execution_count": 6,
     "metadata": {},
     "output_type": "execute_result"
    }
   ],
   "source": [
    "# Importing the dataset\n",
    "dataset = pd.read_csv('Churn_Modelling.csv')\n",
    "X = dataset.iloc[:, 3:13]\n",
    "y = dataset.iloc[:, 13]\n",
    "\n",
    "dataset.head()"
   ]
  },
  {
   "cell_type": "code",
   "execution_count": 7,
   "id": "55871aff",
   "metadata": {},
   "outputs": [],
   "source": [
    "#Create dummy variables\n",
    "geography=pd.get_dummies(X[\"Geography\"],drop_first=True)\n",
    "gender=pd.get_dummies(X['Gender'],drop_first=True)"
   ]
  },
  {
   "cell_type": "code",
   "execution_count": 8,
   "id": "88ca5072",
   "metadata": {},
   "outputs": [],
   "source": [
    "## Concatenate the Data Frames\n",
    "\n",
    "X=pd.concat([X,geography,gender],axis=1)\n",
    "\n",
    "## Drop Unnecessary columns\n",
    "X=X.drop(['Geography','Gender'],axis=1)\n",
    "\n",
    "# Splitting the dataset into the Training set and Test set\n",
    "from sklearn.model_selection import train_test_split\n",
    "X_train, X_test, y_train, y_test = train_test_split(X, y, test_size = 0.2, random_state = 0)\n"
   ]
  },
  {
   "cell_type": "code",
   "execution_count": 9,
   "id": "5edd2185",
   "metadata": {},
   "outputs": [],
   "source": [
    "# Feature Scaling\n",
    "from sklearn.preprocessing import StandardScaler\n",
    "sc = StandardScaler()\n",
    "X_train = sc.fit_transform(X_train)\n",
    "X_test = sc.transform(X_test)\n"
   ]
  },
  {
   "cell_type": "code",
   "execution_count": 10,
   "id": "f4329232",
   "metadata": {},
   "outputs": [
    {
     "data": {
      "text/plain": [
       "array([[ 0.16958176, -0.46460796,  0.00666099, ..., -0.5698444 ,\n",
       "         1.74309049, -1.09168714],\n",
       "       [-2.30455945,  0.30102557, -1.37744033, ...,  1.75486502,\n",
       "        -0.57369368,  0.91601335],\n",
       "       [-1.19119591, -0.94312892, -1.031415  , ..., -0.5698444 ,\n",
       "        -0.57369368, -1.09168714],\n",
       "       ...,\n",
       "       [ 0.9015152 , -0.36890377,  0.00666099, ..., -0.5698444 ,\n",
       "        -0.57369368,  0.91601335],\n",
       "       [-0.62420521, -0.08179119,  1.39076231, ..., -0.5698444 ,\n",
       "         1.74309049, -1.09168714],\n",
       "       [-0.28401079,  0.87525072, -1.37744033, ...,  1.75486502,\n",
       "        -0.57369368, -1.09168714]])"
      ]
     },
     "execution_count": 10,
     "metadata": {},
     "output_type": "execute_result"
    }
   ],
   "source": [
    "X_train"
   ]
  },
  {
   "cell_type": "code",
   "execution_count": 11,
   "id": "8c562b6e",
   "metadata": {
    "scrolled": false
   },
   "outputs": [
    {
     "name": "stdout",
     "output_type": "stream",
     "text": [
      "WARNING:tensorflow:From C:\\Users\\sredekar\\AppData\\Roaming\\Python\\Python311\\site-packages\\keras\\src\\backend.py:873: The name tf.get_default_graph is deprecated. Please use tf.compat.v1.get_default_graph instead.\n",
      "\n",
      "WARNING:tensorflow:From C:\\Users\\sredekar\\AppData\\Roaming\\Python\\Python311\\site-packages\\keras\\src\\optimizers\\__init__.py:309: The name tf.train.Optimizer is deprecated. Please use tf.compat.v1.train.Optimizer instead.\n",
      "\n",
      "Epoch 1/50\n",
      "WARNING:tensorflow:From C:\\Users\\sredekar\\AppData\\Roaming\\Python\\Python311\\site-packages\\keras\\src\\utils\\tf_utils.py:492: The name tf.ragged.RaggedTensorValue is deprecated. Please use tf.compat.v1.ragged.RaggedTensorValue instead.\n",
      "\n",
      "WARNING:tensorflow:From C:\\Users\\sredekar\\AppData\\Roaming\\Python\\Python311\\site-packages\\keras\\src\\engine\\base_layer_utils.py:384: The name tf.executing_eagerly_outside_functions is deprecated. Please use tf.compat.v1.executing_eagerly_outside_functions instead.\n",
      "\n",
      "536/536 [==============================] - 3s 4ms/step - loss: 0.6528 - accuracy: 0.6865 - val_loss: 0.5202 - val_accuracy: 0.7955\n",
      "Epoch 2/50\n",
      "536/536 [==============================] - 2s 3ms/step - loss: 0.5143 - accuracy: 0.7949 - val_loss: 0.4694 - val_accuracy: 0.7948\n",
      "Epoch 3/50\n",
      "536/536 [==============================] - 2s 4ms/step - loss: 0.4729 - accuracy: 0.8011 - val_loss: 0.4387 - val_accuracy: 0.8073\n",
      "Epoch 4/50\n",
      "536/536 [==============================] - 2s 3ms/step - loss: 0.4525 - accuracy: 0.8044 - val_loss: 0.4195 - val_accuracy: 0.8122\n",
      "Epoch 5/50\n",
      "536/536 [==============================] - 1s 2ms/step - loss: 0.4336 - accuracy: 0.8140 - val_loss: 0.4042 - val_accuracy: 0.8194\n",
      "Epoch 6/50\n",
      "536/536 [==============================] - 1s 3ms/step - loss: 0.4232 - accuracy: 0.8184 - val_loss: 0.3978 - val_accuracy: 0.8251\n",
      "Epoch 7/50\n",
      "536/536 [==============================] - 1s 3ms/step - loss: 0.4120 - accuracy: 0.8210 - val_loss: 0.3888 - val_accuracy: 0.8300\n",
      "Epoch 8/50\n",
      "536/536 [==============================] - 1s 2ms/step - loss: 0.4000 - accuracy: 0.8274 - val_loss: 0.3842 - val_accuracy: 0.8353\n",
      "Epoch 9/50\n",
      "536/536 [==============================] - 1s 2ms/step - loss: 0.3961 - accuracy: 0.8337 - val_loss: 0.3776 - val_accuracy: 0.8391\n",
      "Epoch 10/50\n",
      "536/536 [==============================] - 1s 2ms/step - loss: 0.3918 - accuracy: 0.8365 - val_loss: 0.3748 - val_accuracy: 0.8395\n",
      "Epoch 11/50\n",
      "536/536 [==============================] - 1s 2ms/step - loss: 0.3910 - accuracy: 0.8296 - val_loss: 0.3751 - val_accuracy: 0.8410\n",
      "Epoch 12/50\n",
      "536/536 [==============================] - 1s 3ms/step - loss: 0.3919 - accuracy: 0.8343 - val_loss: 0.3733 - val_accuracy: 0.8429\n",
      "Epoch 13/50\n",
      "536/536 [==============================] - 1s 2ms/step - loss: 0.3863 - accuracy: 0.8354 - val_loss: 0.3722 - val_accuracy: 0.8410\n",
      "Epoch 14/50\n",
      "536/536 [==============================] - 1s 3ms/step - loss: 0.3865 - accuracy: 0.8334 - val_loss: 0.3697 - val_accuracy: 0.8429\n",
      "Epoch 15/50\n",
      "536/536 [==============================] - 1s 3ms/step - loss: 0.3817 - accuracy: 0.8380 - val_loss: 0.3690 - val_accuracy: 0.8448\n",
      "Epoch 16/50\n",
      "536/536 [==============================] - 1s 3ms/step - loss: 0.3791 - accuracy: 0.8371 - val_loss: 0.3676 - val_accuracy: 0.8455\n",
      "Epoch 17/50\n",
      "536/536 [==============================] - 1s 3ms/step - loss: 0.3769 - accuracy: 0.8453 - val_loss: 0.3657 - val_accuracy: 0.8451\n",
      "Epoch 18/50\n",
      "536/536 [==============================] - 1s 3ms/step - loss: 0.3774 - accuracy: 0.8438 - val_loss: 0.3637 - val_accuracy: 0.8482\n",
      "Epoch 19/50\n",
      "536/536 [==============================] - 1s 3ms/step - loss: 0.3806 - accuracy: 0.8384 - val_loss: 0.3643 - val_accuracy: 0.8455\n",
      "Epoch 20/50\n",
      "536/536 [==============================] - 2s 3ms/step - loss: 0.3694 - accuracy: 0.8433 - val_loss: 0.3655 - val_accuracy: 0.8478\n",
      "Epoch 21/50\n",
      "536/536 [==============================] - 2s 3ms/step - loss: 0.3693 - accuracy: 0.8474 - val_loss: 0.3641 - val_accuracy: 0.8459\n",
      "Epoch 22/50\n",
      "536/536 [==============================] - 1s 2ms/step - loss: 0.3748 - accuracy: 0.8466 - val_loss: 0.3650 - val_accuracy: 0.8474\n",
      "Epoch 23/50\n",
      "536/536 [==============================] - 1s 2ms/step - loss: 0.3745 - accuracy: 0.8431 - val_loss: 0.3647 - val_accuracy: 0.8470\n",
      "Epoch 24/50\n",
      "536/536 [==============================] - 1s 3ms/step - loss: 0.3678 - accuracy: 0.8429 - val_loss: 0.3622 - val_accuracy: 0.8474\n",
      "Epoch 25/50\n",
      "536/536 [==============================] - 1s 2ms/step - loss: 0.3726 - accuracy: 0.8474 - val_loss: 0.3622 - val_accuracy: 0.8459\n",
      "Epoch 26/50\n",
      "536/536 [==============================] - 1s 2ms/step - loss: 0.3736 - accuracy: 0.8438 - val_loss: 0.3622 - val_accuracy: 0.8444\n",
      "Epoch 27/50\n",
      "536/536 [==============================] - 1s 2ms/step - loss: 0.3625 - accuracy: 0.8515 - val_loss: 0.3616 - val_accuracy: 0.8470\n",
      "Epoch 28/50\n",
      "536/536 [==============================] - 1s 2ms/step - loss: 0.3620 - accuracy: 0.8498 - val_loss: 0.3613 - val_accuracy: 0.8470\n",
      "Epoch 29/50\n",
      "536/536 [==============================] - 1s 2ms/step - loss: 0.3631 - accuracy: 0.8421 - val_loss: 0.3617 - val_accuracy: 0.8459\n",
      "Epoch 30/50\n",
      "536/536 [==============================] - 1s 2ms/step - loss: 0.3605 - accuracy: 0.8507 - val_loss: 0.3613 - val_accuracy: 0.8470\n",
      "Epoch 31/50\n",
      "536/536 [==============================] - 1s 2ms/step - loss: 0.3617 - accuracy: 0.8513 - val_loss: 0.3609 - val_accuracy: 0.8482\n",
      "Epoch 32/50\n",
      "536/536 [==============================] - 1s 3ms/step - loss: 0.3632 - accuracy: 0.8481 - val_loss: 0.3616 - val_accuracy: 0.8470\n",
      "Epoch 33/50\n",
      "536/536 [==============================] - 1s 3ms/step - loss: 0.3637 - accuracy: 0.8502 - val_loss: 0.3591 - val_accuracy: 0.8493\n",
      "Epoch 34/50\n",
      "536/536 [==============================] - 2s 3ms/step - loss: 0.3629 - accuracy: 0.8464 - val_loss: 0.3594 - val_accuracy: 0.8463\n",
      "Epoch 35/50\n",
      "536/536 [==============================] - 1s 3ms/step - loss: 0.3616 - accuracy: 0.8520 - val_loss: 0.3584 - val_accuracy: 0.8478\n",
      "Epoch 36/50\n",
      "536/536 [==============================] - 2s 3ms/step - loss: 0.3570 - accuracy: 0.8485 - val_loss: 0.3583 - val_accuracy: 0.8478\n",
      "Epoch 37/50\n",
      "536/536 [==============================] - 2s 3ms/step - loss: 0.3633 - accuracy: 0.8496 - val_loss: 0.3603 - val_accuracy: 0.8463\n",
      "Epoch 38/50\n",
      "536/536 [==============================] - 2s 3ms/step - loss: 0.3637 - accuracy: 0.8492 - val_loss: 0.3588 - val_accuracy: 0.8470\n",
      "Epoch 39/50\n",
      "536/536 [==============================] - 2s 3ms/step - loss: 0.3609 - accuracy: 0.8507 - val_loss: 0.3575 - val_accuracy: 0.8482\n",
      "Epoch 40/50\n",
      "536/536 [==============================] - 2s 3ms/step - loss: 0.3621 - accuracy: 0.8518 - val_loss: 0.3588 - val_accuracy: 0.8501\n",
      "Epoch 41/50\n",
      "536/536 [==============================] - 2s 3ms/step - loss: 0.3585 - accuracy: 0.8526 - val_loss: 0.3599 - val_accuracy: 0.8470\n",
      "Epoch 42/50\n",
      "536/536 [==============================] - 2s 3ms/step - loss: 0.3574 - accuracy: 0.8494 - val_loss: 0.3591 - val_accuracy: 0.8493\n",
      "Epoch 43/50\n",
      "536/536 [==============================] - 1s 2ms/step - loss: 0.3582 - accuracy: 0.8524 - val_loss: 0.3595 - val_accuracy: 0.8501\n",
      "Epoch 44/50\n",
      "536/536 [==============================] - 1s 2ms/step - loss: 0.3556 - accuracy: 0.8518 - val_loss: 0.3610 - val_accuracy: 0.8466\n",
      "Epoch 45/50\n",
      "536/536 [==============================] - 1s 2ms/step - loss: 0.3606 - accuracy: 0.8468 - val_loss: 0.3604 - val_accuracy: 0.8478\n",
      "Epoch 46/50\n",
      "536/536 [==============================] - 1s 3ms/step - loss: 0.3550 - accuracy: 0.8518 - val_loss: 0.3587 - val_accuracy: 0.8542\n",
      "Epoch 47/50\n",
      "536/536 [==============================] - 1s 3ms/step - loss: 0.3572 - accuracy: 0.8511 - val_loss: 0.3577 - val_accuracy: 0.8470\n",
      "Epoch 48/50\n",
      "536/536 [==============================] - 1s 2ms/step - loss: 0.3592 - accuracy: 0.8487 - val_loss: 0.3606 - val_accuracy: 0.8466\n",
      "Epoch 49/50\n",
      "536/536 [==============================] - 1s 2ms/step - loss: 0.3596 - accuracy: 0.8489 - val_loss: 0.3604 - val_accuracy: 0.8482\n",
      "Epoch 50/50\n",
      "536/536 [==============================] - 1s 2ms/step - loss: 0.3645 - accuracy: 0.8481 - val_loss: 0.3614 - val_accuracy: 0.8482\n"
     ]
    }
   ],
   "source": [
    "# Now let's make the ANN!\n",
    "\n",
    "from tensorflow.keras.models import Sequential #to make sure Frw & back propogation \n",
    "from tensorflow.keras.layers import Dense #to create hidden, input & output layer \n",
    "from tensorflow.keras.layers import LeakyReLU,PReLU,ELU,Activation #activation funcations \n",
    "from tensorflow.keras.layers import Dropout #it is to prevent the overfitting in ANN. if we set it at 0.3 then it will \n",
    "# deactivate the entire 30% of the neuron from the network and rest nruon will be working \n",
    "\n",
    "# Initialising the ANN\n",
    "classifier = Sequential()\n",
    "\n",
    "# Adding the input layer \n",
    "classifier.add(Dense(units=11,activation='relu')) #as no of variables in x_train=11\n",
    "\n",
    "# Adding the first hidden layer\n",
    "classifier.add(Dense(units=7,activation='relu'))\n",
    "classifier.add(Dropout(0.2))\n",
    "\n",
    "# Adding the second hidden layer\n",
    "classifier.add(Dense(units=6,activation='relu'))\n",
    "classifier.add(Dropout(0.3))\n",
    "\n",
    "# Adding the output layer\n",
    "classifier.add(Dense(units=1,activation='sigmoid'))\n",
    "\n",
    "classifier.compile(optimizer='adam',loss='binary_crossentropy',metrics=['accuracy']) #by default adam uses learing rate as 0.25\n",
    "\n",
    "model_history=classifier.fit(X_train,y_train,validation_split=0.33,batch_size=10,epochs=50)"
   ]
  },
  {
   "cell_type": "code",
   "execution_count": 12,
   "id": "8b883fdd",
   "metadata": {},
   "outputs": [
    {
     "name": "stdout",
     "output_type": "stream",
     "text": [
      "dict_keys(['loss', 'accuracy', 'val_loss', 'val_accuracy'])\n"
     ]
    }
   ],
   "source": [
    "# list all data in history\n",
    "\n",
    "print(model_history.history.keys())"
   ]
  },
  {
   "cell_type": "code",
   "execution_count": 13,
   "id": "6b731da6",
   "metadata": {},
   "outputs": [],
   "source": [
    "#early stopping is done if after some time my loss stop decresing with increase in epoch\n",
    "\n",
    "early_stopping=tf.keras.callbacks.EarlyStopping(\n",
    "    monitor=\"val_loss\",\n",
    "    min_delta=0.001,\n",
    "    patience=10, # wait for 20 epochs if no imporovment in loss then stop the algo\n",
    "    verbose=1,\n",
    "    mode=\"auto\",\n",
    "    baseline=None,\n",
    "    restore_best_weights=True, # Restore the weights of the best model when early stopping happnes\n",
    "    start_from_epoch=0\n",
    ")"
   ]
  },
  {
   "cell_type": "code",
   "execution_count": 14,
   "id": "4822bf83",
   "metadata": {
    "scrolled": false
   },
   "outputs": [
    {
     "name": "stdout",
     "output_type": "stream",
     "text": [
      "Epoch 1/100\n",
      "536/536 [==============================] - 1s 3ms/step - loss: 0.3532 - accuracy: 0.8543 - val_loss: 0.3613 - val_accuracy: 0.8455\n",
      "Epoch 2/100\n",
      "536/536 [==============================] - 1s 3ms/step - loss: 0.3544 - accuracy: 0.8503 - val_loss: 0.3628 - val_accuracy: 0.8485\n",
      "Epoch 3/100\n",
      "536/536 [==============================] - 1s 3ms/step - loss: 0.3559 - accuracy: 0.8524 - val_loss: 0.3593 - val_accuracy: 0.8497\n",
      "Epoch 4/100\n",
      "536/536 [==============================] - 1s 3ms/step - loss: 0.3562 - accuracy: 0.8500 - val_loss: 0.3618 - val_accuracy: 0.8493\n",
      "Epoch 5/100\n",
      "536/536 [==============================] - 1s 3ms/step - loss: 0.3527 - accuracy: 0.8524 - val_loss: 0.3622 - val_accuracy: 0.8485\n",
      "Epoch 6/100\n",
      "536/536 [==============================] - 1s 3ms/step - loss: 0.3567 - accuracy: 0.8530 - val_loss: 0.3595 - val_accuracy: 0.8474\n",
      "Epoch 7/100\n",
      "536/536 [==============================] - 1s 3ms/step - loss: 0.3571 - accuracy: 0.8528 - val_loss: 0.3578 - val_accuracy: 0.8478\n",
      "Epoch 8/100\n",
      "536/536 [==============================] - 1s 3ms/step - loss: 0.3567 - accuracy: 0.8500 - val_loss: 0.3595 - val_accuracy: 0.8482\n",
      "Epoch 9/100\n",
      "536/536 [==============================] - 1s 3ms/step - loss: 0.3624 - accuracy: 0.8507 - val_loss: 0.3591 - val_accuracy: 0.8466\n",
      "Epoch 10/100\n",
      "536/536 [==============================] - 1s 3ms/step - loss: 0.3553 - accuracy: 0.8518 - val_loss: 0.3567 - val_accuracy: 0.8523\n",
      "Epoch 11/100\n",
      "536/536 [==============================] - 1s 2ms/step - loss: 0.3473 - accuracy: 0.8511 - val_loss: 0.3588 - val_accuracy: 0.8508\n",
      "Epoch 12/100\n",
      "536/536 [==============================] - 1s 2ms/step - loss: 0.3523 - accuracy: 0.8563 - val_loss: 0.3580 - val_accuracy: 0.8478\n",
      "Epoch 13/100\n",
      "536/536 [==============================] - 1s 2ms/step - loss: 0.3530 - accuracy: 0.8533 - val_loss: 0.3590 - val_accuracy: 0.8474\n",
      "Epoch 14/100\n",
      "536/536 [==============================] - 1s 2ms/step - loss: 0.3580 - accuracy: 0.8520 - val_loss: 0.3606 - val_accuracy: 0.8474\n",
      "Epoch 15/100\n",
      "536/536 [==============================] - 1s 3ms/step - loss: 0.3556 - accuracy: 0.8531 - val_loss: 0.3603 - val_accuracy: 0.8485\n",
      "Epoch 16/100\n",
      "536/536 [==============================] - 1s 2ms/step - loss: 0.3507 - accuracy: 0.8492 - val_loss: 0.3609 - val_accuracy: 0.8463\n",
      "Epoch 17/100\n",
      "536/536 [==============================] - 1s 2ms/step - loss: 0.3525 - accuracy: 0.8554 - val_loss: 0.3619 - val_accuracy: 0.8455\n",
      "Epoch 18/100\n",
      "536/536 [==============================] - 1s 2ms/step - loss: 0.3505 - accuracy: 0.8517 - val_loss: 0.3628 - val_accuracy: 0.8466\n",
      "Epoch 19/100\n",
      "536/536 [==============================] - 1s 2ms/step - loss: 0.3556 - accuracy: 0.8541 - val_loss: 0.3597 - val_accuracy: 0.8501\n",
      "Epoch 20/100\n",
      "536/536 [==============================] - ETA: 0s - loss: 0.3561 - accuracy: 0.8517Restoring model weights from the end of the best epoch: 10.\n",
      "536/536 [==============================] - 1s 2ms/step - loss: 0.3561 - accuracy: 0.8517 - val_loss: 0.3610 - val_accuracy: 0.8489\n",
      "Epoch 20: early stopping\n"
     ]
    }
   ],
   "source": [
    "\n",
    "model_history=classifier.fit(X_train,y_train,validation_split=0.33,batch_size=10,epochs=100,callbacks=early_stopping)"
   ]
  },
  {
   "cell_type": "markdown",
   "id": "65f9bfd0",
   "metadata": {},
   "source": [
    "#####  We can see validation loss does not improve that much after second epoch "
   ]
  },
  {
   "cell_type": "code",
   "execution_count": 15,
   "id": "d2b33a66",
   "metadata": {
    "scrolled": false
   },
   "outputs": [
    {
     "data": {
      "image/png": "[encoded data removed]",
      "text/plain": [
       "<Figure size 640x480 with 1 Axes>"
      ]
     },
     "metadata": {},
     "output_type": "display_data"
    }
   ],
   "source": [
    "# summarize history for accuracy\n",
    "plt.plot(model_history.history['accuracy'])\n",
    "plt.plot(model_history.history['val_accuracy'])\n",
    "plt.title('model accuracy')\n",
    "plt.ylabel('accuracy')\n",
    "plt.xlabel('epoch')\n",
    "plt.legend(['train', 'test'], loc='upper left')\n",
    "plt.show()"
   ]
  },
  {
   "cell_type": "markdown",
   "id": "68482ec4",
   "metadata": {},
   "source": [
    "When we compare the Test and Train data accuracy at every epoch there is very low deivation as y axis is working in a very narrow range  "
   ]
  },
  {
   "cell_type": "code",
   "execution_count": 16,
   "id": "38c408dc",
   "metadata": {
    "scrolled": false
   },
   "outputs": [
    {
     "data": {
      "image/png": "[encoded data removed]",
      "text/plain": [
       "<Figure size 640x480 with 1 Axes>"
      ]
     },
     "metadata": {},
     "output_type": "display_data"
    }
   ],
   "source": [
    "# summarize history for loss\n",
    "plt.plot(model_history.history['loss'])\n",
    "plt.plot(model_history.history['val_loss'])\n",
    "plt.title('model loss')\n",
    "plt.ylabel('loss')\n",
    "plt.xlabel('epoch')\n",
    "plt.legend(['train', 'test'], loc='upper left')\n",
    "plt.show()"
   ]
  },
  {
   "cell_type": "markdown",
   "id": "e07d0dde",
   "metadata": {},
   "source": [
    "When we compare the Test and Train data loss at every epoch same behaviour we can observe"
   ]
  },
  {
   "cell_type": "code",
   "execution_count": 17,
   "id": "193c8711",
   "metadata": {},
   "outputs": [
    {
     "name": "stdout",
     "output_type": "stream",
     "text": [
      "63/63 [==============================] - 0s 1ms/step\n"
     ]
    }
   ],
   "source": [
    "# Making the predictions and evaluating the model\n",
    "\n",
    "# Predicting the Test set results\n",
    "y_pred = classifier.predict(X_test)\n",
    "y_pred = (y_pred > 0.5)"
   ]
  },
  {
   "cell_type": "code",
   "execution_count": 18,
   "id": "00ced89f",
   "metadata": {},
   "outputs": [
    {
     "data": {
      "text/plain": [
       "array([[1530,   65],\n",
       "       [ 217,  188]], dtype=int64)"
      ]
     },
     "execution_count": 18,
     "metadata": {},
     "output_type": "execute_result"
    }
   ],
   "source": [
    "# Making the Confusion Matrix\n",
    "from sklearn.metrics import confusion_matrix\n",
    "cm = confusion_matrix(y_test, y_pred)\n",
    "cm"
   ]
  },
  {
   "cell_type": "code",
   "execution_count": 19,
   "id": "077c8bbc",
   "metadata": {},
   "outputs": [
    {
     "data": {
      "text/plain": [
       "0.859"
      ]
     },
     "execution_count": 19,
     "metadata": {},
     "output_type": "execute_result"
    }
   ],
   "source": [
    "# Calculate the Accuracy\n",
    "from sklearn.metrics import accuracy_score\n",
    "score=accuracy_score(y_pred,y_test)\n",
    "score"
   ]
  },
  {
   "cell_type": "code",
   "execution_count": 20,
   "id": "7d25af52",
   "metadata": {},
   "outputs": [
    {
     "name": "stdout",
     "output_type": "stream",
     "text": [
      "              precision    recall  f1-score   support\n",
      "\n",
      "           0       0.88      0.96      0.92      1595\n",
      "           1       0.74      0.46      0.57       405\n",
      "\n",
      "    accuracy                           0.86      2000\n",
      "   macro avg       0.81      0.71      0.74      2000\n",
      "weighted avg       0.85      0.86      0.85      2000\n",
      "\n"
     ]
    }
   ],
   "source": [
    "# Classification report \n",
    "from sklearn.metrics import classification_report\n",
    "\n",
    "report = classification_report(y_test, y_pred)\n",
    "\n",
    "# Print the report\n",
    "print(report)\n"
   ]
  },
  {
   "cell_type": "markdown",
   "id": "9be6de96",
   "metadata": {},
   "source": [
    "With accuracy of 0.86 it is a good model though can be imporved more but , mostly it works for any application "
   ]
  },
  {
   "cell_type": "code",
   "execution_count": 21,
   "id": "9df79c9f",
   "metadata": {},
   "outputs": [
    {
     "data": {
      "text/plain": [
       "array([[-2.01811403e-01,  1.57732785e-01, -2.29594395e-01,\n",
       "        -4.52747494e-02, -9.88736004e-02, -1.12270657e-02,\n",
       "        -2.42278889e-01, -3.60037833e-02, -6.88772574e-02,\n",
       "         1.75958782e-01,  9.90658179e-02],\n",
       "       [-8.73316228e-02,  6.66043013e-02, -7.68055916e-01,\n",
       "         5.92976153e-01,  1.30309597e-01,  9.99462008e-02,\n",
       "         4.33938444e-01, -7.07739174e-01,  5.57997227e-02,\n",
       "        -8.29448819e-01,  7.06920207e-01],\n",
       "       [-1.34719098e-02,  3.13435107e-01, -4.15742323e-02,\n",
       "         4.76185560e-01,  2.29288973e-02,  4.29273769e-02,\n",
       "         1.18683763e-01,  1.02515295e-01,  1.88446879e-01,\n",
       "         6.36691824e-02,  8.23766831e-03],\n",
       "       [-2.46347785e-01, -2.77358860e-01,  5.48888326e-01,\n",
       "        -3.90263237e-02,  3.78412545e-01,  5.26230372e-02,\n",
       "         2.16224208e-01, -1.82001144e-01, -8.52957368e-01,\n",
       "        -1.06139250e-01,  2.43332922e-01],\n",
       "       [ 3.84736806e-02,  8.64851832e-01,  2.61603426e-02,\n",
       "         3.04258764e-01,  1.17054880e+00, -6.35155618e-01,\n",
       "        -5.52214742e-01,  2.49353871e-01, -7.96981335e-01,\n",
       "         1.90167338e-01, -2.69422233e-01],\n",
       "       [ 7.66203227e-03, -6.62229732e-02,  2.84985695e-02,\n",
       "         9.25427601e-02, -1.39864944e-02, -1.00905821e-01,\n",
       "         9.25020576e-02, -5.55518605e-02, -1.85219273e-02,\n",
       "        -2.31016099e-01, -2.12974340e-01],\n",
       "       [ 3.20626616e-01,  1.60929635e-01, -4.28477943e-01,\n",
       "         5.83517015e-01, -1.70972779e-01, -4.82707471e-01,\n",
       "         1.60291493e-02, -1.63409233e-01, -8.22367445e-02,\n",
       "        -3.08076352e-01, -2.70624280e-01],\n",
       "       [ 5.81770599e-01, -1.73853133e-02,  1.90148488e-01,\n",
       "         5.50844520e-02,  3.97716947e-02, -4.43060063e-02,\n",
       "         3.21082264e-01, -7.82017480e-04,  4.42438982e-02,\n",
       "        -2.02351481e-01, -1.50735155e-01],\n",
       "       [-1.67261943e-01,  6.01606928e-02, -6.76785484e-02,\n",
       "        -3.10177207e-01, -4.55433309e-01,  1.72899023e-01,\n",
       "        -1.36456013e-01, -4.47760910e-01, -4.07255292e-01,\n",
       "        -3.07173073e-01,  3.39371294e-01],\n",
       "       [-2.68923402e-01,  1.58551365e-01, -1.99848890e-01,\n",
       "         1.58329830e-01,  3.95678133e-02,  1.29982546e-01,\n",
       "        -1.32381290e-01, -2.14074448e-01, -3.12513039e-02,\n",
       "        -9.60553214e-02, -5.96143380e-02],\n",
       "       [ 5.01931727e-01,  1.70173392e-01, -1.48504198e-01,\n",
       "         2.83883542e-01,  8.12784508e-02,  9.30694281e-04,\n",
       "         6.40482306e-02,  4.96629328e-01,  4.86375652e-02,\n",
       "        -4.55595553e-02, -1.62812009e-01]], dtype=float32)"
      ]
     },
     "execution_count": 21,
     "metadata": {},
     "output_type": "execute_result"
    }
   ],
   "source": [
    "#get the weights\n",
    "classifier.get_weights()[0]"
   ]
  },
  {
   "cell_type": "code",
   "execution_count": null,
   "id": "81b7bbfe",
   "metadata": {},
   "outputs": [],
   "source": []
  },
  {
   "cell_type": "code",
   "execution_count": null,
   "id": "b9c46e8b",
   "metadata": {},
   "outputs": [],
   "source": []
  }
 ],
 "metadata": {
  "kernelspec": {
   "display_name": "Python 3 (ipykernel)",
   "language": "python",
   "name": "python3"
  },
  "language_info": {
   "codemirror_mode": {
    "name": "ipython",
    "version": 3
   },
   "file_extension": ".py",
   "mimetype": "text/x-python",
   "name": "python",
   "nbconvert_exporter": "python",
   "pygments_lexer": "ipython3",
   "version": "3.11.5"
  }
 },
 "nbformat": 4,
 "nbformat_minor": 5
}
